{
 "cells": [
  {
   "cell_type": "markdown",
   "metadata": {},
   "source": [
    "# Zadanie 1"
   ]
  },
  {
   "cell_type": "code",
   "execution_count": 9,
   "metadata": {
    "scrolled": true
   },
   "outputs": [
    {
     "name": "stdout",
     "output_type": "stream",
     "text": [
      "Udalo sie\n"
     ]
    }
   ],
   "source": [
    "print(\"Udalo sie\")"
   ]
  },
  {
   "cell_type": "markdown",
   "metadata": {},
   "source": [
    "# Zadanie 2"
   ]
  },
  {
   "cell_type": "code",
   "execution_count": 10,
   "metadata": {},
   "outputs": [
    {
     "name": "stdout",
     "output_type": "stream",
     "text": [
      "  ____________\n",
      "| ESSSSSAAAAAA |\n",
      "  ============\n",
      "                   \\\n",
      "                    \\\n",
      "                     \\\n",
      "                      \\\n",
      "                         .-=-==--==--.\n",
      "                   ..-==\"  ,'o`)      `.\n",
      "                 ,'         `\"'         \\\n",
      "                :  (                     `.__...._\n",
      "                |                  )    /         `-=-.\n",
      "                :       ,vv.-._   /    /               `---==-._\n",
      "                 \\/\\/\\/VV ^ d88`;'    /                         `.\n",
      "                     ``  ^/d88P!'    /             ,              `._\n",
      "                        ^/    !'   ,.      ,      /                  \"-,,__,,--'\"\"\"\"-.\n",
      "                       ^/    !'  ,'  \\ . .(      (         _           )  ) ) ) ))_,-.\\\n",
      "                      ^(__ ,!',\"'   ;:+.:%:a.     \\:.. . ,'          )  )  ) ) ,\"'    '\n",
      "                      ',,,'','     /o:::\":%:%a.    \\:.:.:         .    )  ) _,'\n",
      "                       \"\"\"'       ;':::'' `+%%%a._  \\%:%|         ;.). _,-\"\"\n",
      "                              ,-='_.-'      ``:%::)  )%:|        /:._,\"\n",
      "                             (/(/\"           ,\" ,'_,'%%%:       (_,'\n",
      "                                            (  (//(`.___;        \\\n",
      "                                             \\     \\    `         `\n",
      "                                              `.    `.   `.        :\n",
      "                                                \\. . .\\    : . . . :\n",
      "                                                 \\. . .:    `.. . .:\n",
      "                                                  `..:.:\\     \\:...\\\n",
      "                                                   ;:.:.;      ::...:\n",
      "                                                   ):%::       :::::;\n",
      "                                               __,::%:(        :::::\n",
      "                                            ,;:%%%%%%%:        ;:%::\n",
      "                                              ;,--\"\"-.`\\  ,=--':%:%:\\\n",
      "                                             /\"       \"| /-\".:%%%%%%%\\\n",
      "                                                             ;,-\"'`)%%)\n",
      "                                                            /\"      \"|\n"
     ]
    }
   ],
   "source": [
    "import cowsay\n",
    "\n",
    "cowsay.trex(\"ESSSSSAAAAAA\")"
   ]
  },
  {
   "cell_type": "markdown",
   "metadata": {},
   "source": [
    "# Zadanie 3"
   ]
  },
  {
   "cell_type": "code",
   "execution_count": 11,
   "metadata": {},
   "outputs": [],
   "source": [
    "import math\n",
    "\n",
    "def count():\n",
    "    f = open(\"in.txt\")\n",
    "    data = f.read().splitlines()\n",
    "    f.close\n",
    "\n",
    "    f = open(\"out.txt\", mode = 'w')\n",
    "    liczby = []\n",
    "    for i in range(len(data)):\n",
    "        liczby.append(int(data[i]))\n",
    "        f.write(data[i] + \" \")\n",
    "        f.write(str(math.sin(liczby[i])) + \"\\n\")\n",
    "         \n",
    "    f.close\n",
    "count()"
   ]
  },
  {
   "cell_type": "markdown",
   "metadata": {},
   "source": [
    "# Zadanie 4"
   ]
  },
  {
   "cell_type": "code",
   "execution_count": 2,
   "metadata": {},
   "outputs": [
    {
     "name": "stdout",
     "output_type": "stream",
     "text": [
      "\n",
      "Poczatkowy stan koszyka:\n",
      "Pomidor 2\n",
      "Jablko 1\n",
      "Gruszka 3\n",
      "Ogorek 1\n",
      "Marchew 2\n",
      "\n",
      "Stan koszyka po zmianach:\n",
      "Pomidor 3\n",
      "Jablko 1\n",
      "Gruszka 5\n",
      "Ogorek 2\n",
      "Marchew 2\n",
      "\n",
      "Wartosc koszyka:  81\n"
     ]
    }
   ],
   "source": [
    "class Product:\n",
    "    name = None\n",
    "    price = None\n",
    "    quantity = None\n",
    "\n",
    "    def __init__(self, name, price, quantity):\n",
    "        self.name = name\n",
    "        self.price = price\n",
    "        self.quantity = quantity\n",
    "\n",
    "class Cart:\n",
    "    List = [Product('Pomidor', 10, 2), Product('Jablko', 2, 1), Product('Gruszka', 3, 3), Product('Ogorek', 2, 1),\n",
    "            Product('Marchew', 15, 2)]\n",
    "\n",
    "    def add(self, name):\n",
    "        for i in self.List:\n",
    "            if i.name == name:\n",
    "                i.quantity += 1\n",
    "                break\n",
    "\n",
    "    def remove(self, name):\n",
    "        for i in self.List:\n",
    "            if i.name == name and i.quantity != 0:\n",
    "                i.quantity -= 1\n",
    "                if i.quantity == 0:\n",
    "                    self.List.remove(i)\n",
    "                break\n",
    "    def total_price(self):\n",
    "        total = 0\n",
    "        for i in self.List:\n",
    "            total += i.quantity * i.price\n",
    "        return total\n",
    "\n",
    "c = Cart()\n",
    "print(\"\\nPoczatkowy stan koszyka:\")\n",
    "for i in c.List:\n",
    "    print(i.name, i.quantity)\n",
    "\n",
    "c.add('Pomidor')\n",
    "c.add('Jablko')\n",
    "c.add('Gruszka')\n",
    "c.add('Ogorek')\n",
    "c.add('Ogorek')\n",
    "c.add('Marchew')\n",
    "c.add('Gruszka')\n",
    "c.remove('Jablko')\n",
    "c.remove('Marchew')\n",
    "c.remove('Ogorek')\n",
    "\n",
    "print(\"\\nStan koszyka po zmianach:\")\n",
    "for i in c.List:\n",
    "    print(i.name, i.quantity)\n",
    "\n",
    "print(\"\\nWartosc koszyka: \", c.total_price())\n"
   ]
  },
  {
   "cell_type": "markdown",
   "metadata": {},
   "source": [
    "# Zadanie 5"
   ]
  },
  {
   "cell_type": "code",
   "execution_count": 1,
   "metadata": {},
   "outputs": [
    {
     "name": "stdout",
     "output_type": "stream",
     "text": [
      "Orzech 20\n",
      "Pomidor 2, Jablko 1, Gruszka 3, Ogorek 1, Marchew 2, \n",
      "9\n",
      "Pomidor 10\n",
      "Jablko 2\n",
      "Gruszka 3\n",
      "Ogorek 2\n",
      "Marchew 15\n"
     ]
    }
   ],
   "source": [
    "class Product:\n",
    "    name = None\n",
    "    price = None\n",
    "    quantity = None\n",
    "\n",
    "    def __init__(self, name, price, quantity):\n",
    "        self.name = name\n",
    "        self.price = price\n",
    "        self.quantity = quantity\n",
    "\n",
    "    def __str__(self):\n",
    "        return self.name + \" \" + str(self.price)\n",
    "\n",
    "class Cart:\n",
    "\n",
    "    List = [Product('Pomidor', 10, 2), Product('Jablko', 2, 1), Product('Gruszka', 3, 3), Product('Ogorek', 2, 1),\n",
    "            Product('Marchew', 15, 2)]\n",
    "\n",
    "    def add(self, name):\n",
    "        for i in self.List:\n",
    "            if i.name == name:\n",
    "                i.quantity += 1\n",
    "                break\n",
    "\n",
    "    def remove(self, name):\n",
    "        for i in self.List:\n",
    "            if i.name == name and i.quantity != 0:\n",
    "                i.quantity -= 1\n",
    "                if i.quantity == 0:\n",
    "                    self.List.remove(i)\n",
    "                break\n",
    "    def total_price(self):\n",
    "        total = 0\n",
    "        for i in self.List:\n",
    "            total += i.quantity * i.price\n",
    "        return total\n",
    "\n",
    "    def __str__(self):\n",
    "        Content = \"\"\n",
    "        for i in self.List:\n",
    "            Content += i.name + \" \" + str(i.quantity) + \", \"\n",
    "        return Content\n",
    "\n",
    "    def __len__(self):\n",
    "        total = 0\n",
    "        for i in self.List:\n",
    "            total += i.quantity\n",
    "        return total\n",
    "\n",
    "    def __iter__(self):\n",
    "        self.currentIndex = 0\n",
    "        return self\n",
    "\n",
    "    def __next__(self):\n",
    "        if self.currentIndex < len(self.List):\n",
    "            x = self.List[self.currentIndex]\n",
    "            self.currentIndex += 1\n",
    "            return x\n",
    "        raise StopIteration\n",
    "\n",
    "\n",
    "\n",
    "koszyk = Cart()\n",
    "p = Product('Orzech', 20, 2)\n",
    "print(str(p))\n",
    "print(str(koszyk))\n",
    "print(len(koszyk))\n",
    "\n",
    "for produkt in koszyk:\n",
    "    print(produkt)\n"
   ]
  },
  {
   "cell_type": "code",
   "execution_count": null,
   "metadata": {},
   "outputs": [],
   "source": []
  }
 ],
 "metadata": {
  "kernelspec": {
   "display_name": "Python 3 (ipykernel)",
   "language": "python",
   "name": "python3"
  },
  "language_info": {
   "codemirror_mode": {
    "name": "ipython",
    "version": 3
   },
   "file_extension": ".py",
   "mimetype": "text/x-python",
   "name": "python",
   "nbconvert_exporter": "python",
   "pygments_lexer": "ipython3",
   "version": "3.10.10"
  }
 },
 "nbformat": 4,
 "nbformat_minor": 4
}
